{
 "cells": [
  {
   "cell_type": "markdown",
   "id": "51724b55-6c25-4d02-9864-4c3814ffc0b8",
   "metadata": {},
   "source": [
    "# Task4-PY \n",
    "* craete 10 if/else with input code"
   ]
  },
  {
   "cell_type": "markdown",
   "id": "6cad9cba-2caa-427e-b706-31251587c6d3",
   "metadata": {},
   "source": [
    "## 1)"
   ]
  },
  {
   "cell_type": "code",
   "execution_count": 40,
   "id": "f0c796c0-ea6c-491c-b152-8c7ef96ec196",
   "metadata": {},
   "outputs": [
    {
     "name": "stdin",
     "output_type": "stream",
     "text": [
      "Enter first number:  89\n",
      "Enter second number:  9\n"
     ]
    },
    {
     "name": "stdout",
     "output_type": "stream",
     "text": [
      "a is a larger than b\n"
     ]
    }
   ],
   "source": [
    "a = int(input(\"Enter first number: \"))\n",
    "b = int(input(\"Enter second number: \"))\n",
    "if a>b:\n",
    "    print('a is a larger than b')\n",
    "else:\n",
    "    print('b is larger than a')\n"
   ]
  },
  {
   "cell_type": "markdown",
   "id": "e55ac856-71da-4c3a-86fd-c3618e1c9d5f",
   "metadata": {},
   "source": [
    "## 2)"
   ]
  },
  {
   "cell_type": "code",
   "execution_count": 5,
   "id": "734e4d65-b50e-41f5-b5cd-e7df51cace01",
   "metadata": {},
   "outputs": [
    {
     "name": "stdin",
     "output_type": "stream",
     "text": [
      "Enter number a 23\n"
     ]
    },
    {
     "name": "stdout",
     "output_type": "stream",
     "text": [
      "a is an odd number\n"
     ]
    }
   ],
   "source": [
    "a=int(input('Enter number a'))\n",
    "if a%2==0:\n",
    "    print('a is an even number')\n",
    "else:\n",
    "     print('a is an odd number')"
   ]
  },
  {
   "cell_type": "markdown",
   "id": "721c7d22-1430-42c9-9472-95ea9bfdf9e4",
   "metadata": {},
   "source": [
    "## 3)"
   ]
  },
  {
   "cell_type": "code",
   "execution_count": 7,
   "id": "acd1d2fa-3b87-4c97-ba58-ee8d0bbc8560",
   "metadata": {},
   "outputs": [
    {
     "name": "stdin",
     "output_type": "stream",
     "text": [
      "Enter number a 15\n"
     ]
    },
    {
     "name": "stdout",
     "output_type": "stream",
     "text": [
      "Number is divisible by 3\n"
     ]
    }
   ],
   "source": [
    "a=int(input('Enter number a'))\n",
    "if a%3==0:\n",
    "    print('Number is divisible by 3')\n",
    "else:\n",
    "     print('Number is not  divisible by 3')"
   ]
  },
  {
   "cell_type": "markdown",
   "id": "babe0ced-f598-4cf5-a82f-3c44aec414a0",
   "metadata": {},
   "source": [
    "## 4)"
   ]
  },
  {
   "cell_type": "code",
   "execution_count": 2,
   "id": "56904453-589d-4005-bb91-1e3805d7de13",
   "metadata": {},
   "outputs": [
    {
     "name": "stdin",
     "output_type": "stream",
     "text": [
      "Enter first number:  20\n",
      "Enter second number:  32\n"
     ]
    },
    {
     "name": "stdout",
     "output_type": "stream",
     "text": [
      "32 is larger\n"
     ]
    }
   ],
   "source": [
    "a = int(input(\"Enter first number: \"))\n",
    "b = int(input(\"Enter second number: \"))\n",
    "if a > b:\n",
    "  print(a, \"is larger\")\n",
    "else:\n",
    "  print(b, \"is larger\")"
   ]
  },
  {
   "cell_type": "markdown",
   "id": "26393b19-dea6-4dde-b715-c37d26a82022",
   "metadata": {},
   "source": [
    "## 5)"
   ]
  },
  {
   "cell_type": "code",
   "execution_count": 5,
   "id": "b48e1886-b694-441b-85f7-8c8330d4785d",
   "metadata": {},
   "outputs": [
    {
     "name": "stdin",
     "output_type": "stream",
     "text": [
      "Enter your age:  5\n"
     ]
    },
    {
     "name": "stdout",
     "output_type": "stream",
     "text": [
      "Not eligible to vote\n"
     ]
    }
   ],
   "source": [
    "age = int(input(\"Enter your age: \"))\n",
    "if age >= 18:\n",
    "  print(\"Eligible to vote\")\n",
    "else:\n",
    "  print(\"Not eligible to vote\")"
   ]
  },
  {
   "cell_type": "markdown",
   "id": "9da6dee1-d4c3-4bf0-9d71-3c610e68c0cb",
   "metadata": {},
   "source": [
    "## 6)"
   ]
  },
  {
   "cell_type": "code",
   "execution_count": 8,
   "id": "ac7f1968-dc67-465b-8eff-749a50a744a6",
   "metadata": {},
   "outputs": [
    {
     "name": "stdin",
     "output_type": "stream",
     "text": [
      "Enter a year:  24\n"
     ]
    },
    {
     "name": "stdout",
     "output_type": "stream",
     "text": [
      "24 is a leap year\n"
     ]
    }
   ],
   "source": [
    "year = int(input(\"Enter a year: \"))\n",
    "if (year % 4 == 0 ):\n",
    "  print(year, \"is a leap year\")\n",
    "else:\n",
    "  print(year, \"is not a leap year\")"
   ]
  },
  {
   "cell_type": "markdown",
   "id": "bb9225ea-8cdc-452b-8143-fe645087830c",
   "metadata": {},
   "source": [
    "## 7)"
   ]
  },
  {
   "cell_type": "code",
   "execution_count": 11,
   "id": "f0dc5cdc-438b-4b52-99ba-1a4aa6b3030b",
   "metadata": {},
   "outputs": [
    {
     "name": "stdin",
     "output_type": "stream",
     "text": [
      "Enter a number:  -7\n"
     ]
    },
    {
     "name": "stdout",
     "output_type": "stream",
     "text": [
      "-7.0 is negative\n"
     ]
    }
   ],
   "source": [
    "num = float(input(\"Enter a number: \"))\n",
    "if num > 0:\n",
    "  print(num, \"is positive\")\n",
    "else:\n",
    "  print(num, \"is negative\")\n"
   ]
  },
  {
   "cell_type": "markdown",
   "id": "78256b28-a148-4700-9d17-0e6ebe7c97da",
   "metadata": {},
   "source": [
    "## 8)"
   ]
  },
  {
   "cell_type": "code",
   "execution_count": 26,
   "id": "fc8ea25c-6358-4841-bf19-d004703efe4c",
   "metadata": {},
   "outputs": [
    {
     "name": "stdin",
     "output_type": "stream",
     "text": [
      "Enter your age:  34\n"
     ]
    },
    {
     "name": "stdout",
     "output_type": "stream",
     "text": [
      "You are an adult.\n"
     ]
    }
   ],
   "source": [
    "age = int(input(\"Enter your age: \"))\n",
    "if age >= 18:\n",
    "  print(\"You are an adult.\")\n",
    "  if age >= 60:\n",
    "    print(\"You are a senior citizen.\")\n",
    "else:\n",
    "  print(\"You are a minor.\")"
   ]
  },
  {
   "cell_type": "markdown",
   "id": "0278089b-5498-4a93-a6c7-9e3b1f050fc9",
   "metadata": {},
   "source": [
    "## 9)"
   ]
  },
  {
   "cell_type": "code",
   "execution_count": 33,
   "id": "d119350f-9f2b-4393-a147-a19ecea9a80d",
   "metadata": {},
   "outputs": [
    {
     "name": "stdin",
     "output_type": "stream",
     "text": [
      "Enter a character:  u\n"
     ]
    },
    {
     "name": "stdout",
     "output_type": "stream",
     "text": [
      "u is a vowel\n"
     ]
    }
   ],
   "source": [
    "char = input(\"Enter a character: \")\n",
    "if char in 'aeiouAEIOU':\n",
    "  print(char, \"is a vowel\")\n",
    "else:\n",
    "  print(char, \"is a consonant\")"
   ]
  },
  {
   "cell_type": "markdown",
   "id": "3fd8920a-f866-4f8b-b64a-cebe5ba544cf",
   "metadata": {},
   "source": [
    "## 10)"
   ]
  },
  {
   "cell_type": "code",
   "execution_count": null,
   "id": "dd45da26-ccd4-4e05-9508-b20669508591",
   "metadata": {},
   "outputs": [],
   "source": [
    "color = input(\"Enter traffic light color: \")\n",
    "if color.lower() == \"red\":\n",
    "  print(\"Stop\")\n",
    "elif color.lower() == \"yellow\":\n",
    "  print(\"Caution\")\n",
    "elif color.lower() == \"green\":\n",
    "  print(\"Go\")\n",
    "else:\n",
    "  print(\"Invalid color\")"
   ]
  },
  {
   "cell_type": "code",
   "execution_count": null,
   "id": "cdf87aca-0ba7-4881-953b-6a6197087494",
   "metadata": {},
   "outputs": [],
   "source": []
  }
 ],
 "metadata": {
  "kernelspec": {
   "display_name": "Python 3 (ipykernel)",
   "language": "python",
   "name": "python3"
  },
  "language_info": {
   "codemirror_mode": {
    "name": "ipython",
    "version": 3
   },
   "file_extension": ".py",
   "mimetype": "text/x-python",
   "name": "python",
   "nbconvert_exporter": "python",
   "pygments_lexer": "ipython3",
   "version": "3.12.4"
  }
 },
 "nbformat": 4,
 "nbformat_minor": 5
}
