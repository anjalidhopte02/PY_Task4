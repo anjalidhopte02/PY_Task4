{
 "cells": [
  {
   "cell_type": "markdown",
   "id": "4cdc1b17-8dd3-4043-8fa0-541186a467d2",
   "metadata": {},
   "source": [
    "# Task4-PY\n",
    " * complete example of 8 dict function  / methods\n",
    "   "
   ]
  },
  {
   "cell_type": "markdown",
   "id": "0b4e5ba2-fea6-4e11-93b9-d70735c4acaa",
   "metadata": {},
   "source": [
    "# 1) Clear()\n",
    "* Removes all the elements from the dictionary.\n",
    "* https://www.w3schools.com/python/ref_dictionary_clear.asp"
   ]
  },
  {
   "cell_type": "code",
   "execution_count": 6,
   "id": "deefb296-5126-4ddd-992e-9822507cb79c",
   "metadata": {},
   "outputs": [
    {
     "name": "stdout",
     "output_type": "stream",
     "text": [
      "{}\n"
     ]
    }
   ],
   "source": [
    "student ={\n",
    "    \"FirstName\" : \"Anjali\",\n",
    "    \"LastName\" : \"Dhopte\",\n",
    "    \"Class\" : 2,\n",
    "    \"Sec\" : \"B\"\n",
    "    \n",
    "}\n",
    "student.clear()\n",
    "print(student)\n"
   ]
  },
  {
   "cell_type": "markdown",
   "id": "4bf1fefc-e5f5-40b2-b4eb-74f286d83d46",
   "metadata": {},
   "source": [
    "# 2) Copy()\n",
    "* Returns a copy of the dictionary\n",
    "* https://www.w3schools.com/python/ref_dictionary_copy.asp"
   ]
  },
  {
   "cell_type": "code",
   "execution_count": 9,
   "id": "a6c08f3b-075f-407f-bfe3-5fa3ca324a2b",
   "metadata": {},
   "outputs": [
    {
     "name": "stdout",
     "output_type": "stream",
     "text": [
      "{'FirstName': 'Anjali', 'LastName': 'Dhopte', 'Class': 2, 'Sec': 'B'}\n"
     ]
    }
   ],
   "source": [
    "student ={\n",
    "    \"FirstName\" : \"Anjali\",\n",
    "    \"LastName\" : \"Dhopte\",\n",
    "    \"Class\" : 2,\n",
    "    \"Sec\" : \"B\"\n",
    "    \n",
    "}\n",
    "student.copy()\n",
    "print(student)\n"
   ]
  },
  {
   "cell_type": "markdown",
   "id": "e2efc6da-caac-45d4-acf9-ae1e18e7e152",
   "metadata": {},
   "source": [
    "# 3) fromkeys()\n",
    "* returns a dictionary with the specified keys and value.\n",
    "* https://www.w3schools.com/python/trypython.asp?filename=demo_ref_dictionary_fromkeys"
   ]
  },
  {
   "cell_type": "code",
   "execution_count": 13,
   "id": "c7e459ac-3164-463a-9a70-1c9690fc9449",
   "metadata": {},
   "outputs": [
    {
     "name": "stdout",
     "output_type": "stream",
     "text": [
      "{'apple': 10, 'banana': 10, 'orange': 10}\n"
     ]
    }
   ],
   "source": [
    "x = (\n",
    "    \"apple\",\"banana\",\"orange\"\n",
    ")\n",
    "y=(10)\n",
    "Inventery= dict.fromkeys(x, y)\n",
    "print(Inventery)\n",
    "\n"
   ]
  },
  {
   "cell_type": "markdown",
   "id": "9ae5fd1c-9a56-4f6d-a8e6-709ab98e394b",
   "metadata": {},
   "source": [
    "# 4) get()\n",
    "* Returns the value of the specified key\n",
    "* https://www.w3schools.com/python/ref_dictionary_get.asp"
   ]
  },
  {
   "cell_type": "code",
   "execution_count": 19,
   "id": "9803075f-0c28-4e8f-bab6-5dc0c039e7c8",
   "metadata": {},
   "outputs": [
    {
     "name": "stdout",
     "output_type": "stream",
     "text": [
      "B\n"
     ]
    }
   ],
   "source": [
    "student1 ={\n",
    "    \"FirstName\" : \"Anjali\",\n",
    "    \"LastName\" : \"Dhopte\",\n",
    "    \"Class\" : 2,\n",
    "    \"Sec\" : \"B\"\n",
    "    \n",
    "}\n",
    "s = student1.get(\"Sec\")\n",
    "\n",
    "print(s)"
   ]
  },
  {
   "cell_type": "code",
   "execution_count": 21,
   "id": "dc88a6ff-2eb3-45f8-94b2-2dc8ea58052c",
   "metadata": {},
   "outputs": [
    {
     "name": "stdout",
     "output_type": "stream",
     "text": [
      "ABC\n"
     ]
    }
   ],
   "source": [
    "student2 ={\n",
    "    \"FirstName\" : \"ABC\",\n",
    "    \"LastName\" : \"D1\",\n",
    "    \"Class\" : 7,\n",
    "    \"Sec\" : \"A\"\n",
    "    \n",
    "}\n",
    "s2 = student2.get(\"FirstName\")\n",
    "\n",
    "print(s2)"
   ]
  },
  {
   "cell_type": "markdown",
   "id": "a605830f-2fe3-4d99-b28a-e2fbd36ccfad",
   "metadata": {},
   "source": [
    "# 5)items()\n",
    "* Returns a list containing a tuple for each key value pair.\n",
    "* https://www.w3schools.com/python/ref_dictionary_items.asp"
   ]
  },
  {
   "cell_type": "code",
   "execution_count": 26,
   "id": "660b0872-11e1-4fb6-983b-203b0a34afe5",
   "metadata": {},
   "outputs": [
    {
     "name": "stdout",
     "output_type": "stream",
     "text": [
      "dict_items([('FirstName', 'ABC'), ('LastName', 'D1'), ('Class', 7), ('Sec', 'A')])\n"
     ]
    }
   ],
   "source": [
    "student2 ={\n",
    "    \"FirstName\" : \"ABC\",\n",
    "    \"LastName\" : \"D1\",\n",
    "    \"Class\" : 7,\n",
    "    \"Sec\" : \"A\"\n",
    "    \n",
    "}\n",
    "s1= student2.items()\n",
    "\n",
    "print(s1)\n"
   ]
  },
  {
   "cell_type": "markdown",
   "id": "22a590d0-c555-4ac8-808c-5d133832e488",
   "metadata": {},
   "source": [
    "# 6)keys()\n",
    "* Returns a list containing the dictionary's keys.\n",
    "* https://www.w3schools.com/python/ref_dictionary_keys.asp"
   ]
  },
  {
   "cell_type": "code",
   "execution_count": 30,
   "id": "29d8eac8-dae8-48dd-a5fa-25d22ecb2649",
   "metadata": {},
   "outputs": [
    {
     "name": "stdout",
     "output_type": "stream",
     "text": [
      "dict_keys(['FirstName', 'LastName', 'Class', 'Sec'])\n"
     ]
    }
   ],
   "source": [
    "student2 ={\n",
    "    \"FirstName\" : \"ABC\",\n",
    "    \"LastName\" : \"D1\",\n",
    "    \"Class\" : 7,\n",
    "    \"Sec\" : \"A\"\n",
    "    \n",
    "}\n",
    "s1= student2.keys()\n",
    "\n",
    "print(s1)"
   ]
  },
  {
   "cell_type": "markdown",
   "id": "fd33eb5c-10fd-4d7f-8c34-0ce3992b3cb5",
   "metadata": {},
   "source": [
    "# 7)pop()\n",
    "* Removes the element with the specified key\n",
    "* https://www.w3schools.com/python/ref_dictionary_pop.asp"
   ]
  },
  {
   "cell_type": "code",
   "execution_count": 54,
   "id": "524c422d-d16b-4a9e-99c7-9445723a8796",
   "metadata": {},
   "outputs": [
    {
     "name": "stdout",
     "output_type": "stream",
     "text": [
      "{'FirstName': 'ABC', 'Class': 7, 'Sec': 'A'}\n"
     ]
    }
   ],
   "source": [
    "student2 ={\n",
    "    \"FirstName\" : \"ABC\",\n",
    "    \"LastName\" : \"D1\",\n",
    "    \"Class\" : 7,\n",
    "    \"Sec\" : \"A\"\n",
    "    }\n",
    "student2.pop(\"LastName\")\n",
    "print(student2)\n",
    "\n"
   ]
  },
  {
   "cell_type": "code",
   "execution_count": 52,
   "id": "74ca3517-1b6c-4da3-900d-b3d625fb1c0a",
   "metadata": {},
   "outputs": [
    {
     "name": "stdout",
     "output_type": "stream",
     "text": [
      "{'brand': 'Ford', 'year': 1964}\n"
     ]
    }
   ],
   "source": [
    "car = {\n",
    "  \"brand\": \"Ford\",\n",
    "  \"model\": \"Mustang\",\n",
    "  \"year\": 1964\n",
    "}\n",
    "\n",
    "car.pop(\"model\")\n",
    "\n",
    "print(car)"
   ]
  },
  {
   "cell_type": "markdown",
   "id": "6e65d21d-2d88-4f7a-ae68-60ac76b44195",
   "metadata": {},
   "source": [
    "# 8)Update()\n",
    "* Updates the dictionary with the specified key-value pairs\n",
    "* https://www.w3schools.com/python/ref_dictionary_update.asp"
   ]
  },
  {
   "cell_type": "code",
   "execution_count": 60,
   "id": "8f065ea3-a9d5-4e32-b95f-ca547bb66636",
   "metadata": {},
   "outputs": [
    {
     "name": "stdout",
     "output_type": "stream",
     "text": [
      "{'FirstName': 'ABC', 'LastName': 'D1', 'Class': 7, 'Sec': 'B'}\n"
     ]
    }
   ],
   "source": [
    "student2 ={\n",
    "    \"FirstName\" : \"ABC\",\n",
    "    \"LastName\" : \"D1\",\n",
    "    \"Class\" : 7,\n",
    "    \"Sec\" : \"A\"\n",
    "    }\n",
    "student2.update({\"Sec\" : \"B\"})\n",
    "print(student2)\n"
   ]
  },
  {
   "cell_type": "markdown",
   "id": "d2f00e64-957d-4e61-9226-e256233b6c3f",
   "metadata": {},
   "source": [
    "# 9)Values()\n",
    "* Returns a list of all the values in the dictionary\n",
    "* https://www.w3schools.com/python/ref_dictionary_values.asp"
   ]
  },
  {
   "cell_type": "code",
   "execution_count": 64,
   "id": "b2cb2a8a-20b8-4a73-891a-e00a4df09c3f",
   "metadata": {},
   "outputs": [
    {
     "name": "stdout",
     "output_type": "stream",
     "text": [
      "<built-in method values of dict object at 0x0000025734F0C200>\n"
     ]
    }
   ],
   "source": [
    "student2 ={\n",
    "    \"FirstName\" : \"ABC\",\n",
    "    \"LastName\" : \"D1\",\n",
    "    \"Class\" : 7,\n",
    "    \"Sec\" : \"A\"\n",
    "    }\n",
    "s2=student2.values\n",
    "print(s2)\n"
   ]
  },
  {
   "cell_type": "code",
   "execution_count": null,
   "id": "b3a72cbb-bf00-44b4-9f91-cd56b17392ce",
   "metadata": {},
   "outputs": [],
   "source": []
  }
 ],
 "metadata": {
  "kernelspec": {
   "display_name": "Python 3 (ipykernel)",
   "language": "python",
   "name": "python3"
  },
  "language_info": {
   "codemirror_mode": {
    "name": "ipython",
    "version": 3
   },
   "file_extension": ".py",
   "mimetype": "text/x-python",
   "name": "python",
   "nbconvert_exporter": "python",
   "pygments_lexer": "ipython3",
   "version": "3.12.4"
  }
 },
 "nbformat": 4,
 "nbformat_minor": 5
}
